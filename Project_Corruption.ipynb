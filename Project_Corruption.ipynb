{
 "cells": [
  {
   "cell_type": "markdown",
   "metadata": {},
   "source": [
    "---\n",
    "Term paper for the course in Computational Statistics, JProf Lena Janys | Summer 2020, M.Sc. Economics, Bonn University | Gerwin Janis Kiessling | Student ID: 3342351\n",
    "\n",
    "# Heterogenous Treatment Effect Estimation and Inference with Causal Forests: A Simulation Study and an Application to a Field Experiment on Monitoring Corruption\n",
    "---"
   ]
  },
  {
   "cell_type": "markdown",
   "metadata": {},
   "source": [
    "**Viewing and Running this Notebook**\n",
    "\n",
    "* I recommend _NBViewer_ for viewing this noteboook. I provide a badge in the read-me file of my GitHub repository.\n",
    "\n",
    "* You may have to extend your Anaconda environment to install the _grf_ package. In order to do so run the following line in your terminal: <br>\n",
    "    conda install -c conda-forge r-grf\n",
    "* The run-time of this notebook is approximately 4 hours on my computer. This should not come as a surprise to you if you replicate my results."
   ]
  },
  {
   "cell_type": "markdown",
   "metadata": {
    "toc": true
   },
   "source": [
    "<h1>Table of Contents<span class=\"tocSkip\"></span></h1>\n",
    "<div class=\"toc\"><ul class=\"toc-item\"><li><span><a href=\"#1.-Introduction\" data-toc-modified-id=\"1.-Introduction-1\">1. Introduction</a></span></li><li><span><a href=\"#2.-Causal-Forests:-Theoretical-Background\" data-toc-modified-id=\"2.-Causal-Forests:-Theoretical-Background-2\">2. Causal Forests: Theoretical Background</a></span><ul class=\"toc-item\"><li><span><a href=\"#2.1-The-Potential-Outcomes-Model\" data-toc-modified-id=\"2.1-The-Potential-Outcomes-Model-2.1\">2.1 The Potential Outcomes Model</a></span></li><li><span><a href=\"#2.2-Honest-and-Adaptive-Causal-Forests\" data-toc-modified-id=\"2.2-Honest-and-Adaptive-Causal-Forests-2.2\">2.2 Honest and Adaptive Causal Forests</a></span></li></ul></li><li><span><a href=\"#3.-Brief-Description-of-Olken-(2007)\" data-toc-modified-id=\"3.-Brief-Description-of-Olken-(2007)-3\">3. Brief Description of Olken (2007)</a></span></li><li><span><a href=\"#4.-Simulation-Study\" data-toc-modified-id=\"4.-Simulation-Study-4\">4. Simulation Study</a></span><ul class=\"toc-item\"><li><span><a href=\"#4.1-The-Data-Generating-Process\" data-toc-modified-id=\"4.1-The-Data-Generating-Process-4.1\">4.1 The Data Generating Process</a></span></li><li><span><a href=\"#4.2-Results\" data-toc-modified-id=\"4.2-Results-4.2\">4.2 Results</a></span></li></ul></li><li><span><a href=\"#5.-Empirical-Application\" data-toc-modified-id=\"5.-Empirical-Application-5\">5. Empirical Application</a></span></li><li><span><a href=\"#References\" data-toc-modified-id=\"References-6\">References</a></span></li></ul></div>"
   ]
  },
  {
   "cell_type": "code",
   "execution_count": 1,
   "metadata": {},
   "outputs": [
    {
     "name": "stderr",
     "output_type": "stream",
     "text": [
      "Warning message in install.packages(\"grf\"):\n",
      "“installation of package ‘grf’ had non-zero exit status”Updating HTML index of packages in '.Library'\n",
      "Making 'packages.html' ... done\n",
      "Updating HTML index of packages in '.Library'\n",
      "Making 'packages.html' ... done\n",
      "Updating HTML index of packages in '.Library'\n",
      "Making 'packages.html' ... done\n",
      "Updating HTML index of packages in '.Library'\n",
      "Making 'packages.html' ... done\n",
      "Updating HTML index of packages in '.Library'\n",
      "Making 'packages.html' ... done\n",
      "Updating HTML index of packages in '.Library'\n",
      "Making 'packages.html' ... done\n",
      "Updating HTML index of packages in '.Library'\n",
      "Making 'packages.html' ... done\n",
      "Updating HTML index of packages in '.Library'\n",
      "Making 'packages.html' ... done\n",
      "Updating HTML index of packages in '.Library'\n",
      "Making 'packages.html' ... done\n",
      "Updating HTML index of packages in '.Library'\n",
      "Making 'packages.html' ... done\n",
      "Updating HTML index of packages in '.Library'\n",
      "Making 'packages.html' ... done\n",
      "Updating HTML index of packages in '.Library'\n",
      "Making 'packages.html' ... done\n",
      "Updating HTML index of packages in '.Library'\n",
      "Making 'packages.html' ... done\n",
      "Updating HTML index of packages in '.Library'\n",
      "Making 'packages.html' ... done\n",
      "Warning message:\n",
      "“package ‘grf’ was built under R version 3.6.3”Loading required package: iterators\n",
      "Loading required package: mvtnorm\n",
      "Loading required package: Matrix\n",
      "Loading required package: stats4\n",
      "Loading required package: gmm\n",
      "Loading required package: sandwich\n",
      "Warning message:\n",
      "“package ‘sandwich’ was built under R version 3.6.3”\n",
      "Attaching package: ‘ggplot2’\n",
      "\n",
      "The following objects are masked from ‘package:ggstance’:\n",
      "\n",
      "    GeomErrorbarh, geom_errorbarh\n",
      "\n",
      "Loading required package: zoo\n",
      "\n",
      "Attaching package: ‘zoo’\n",
      "\n",
      "The following objects are masked from ‘package:base’:\n",
      "\n",
      "    as.Date, as.Date.numeric\n",
      "\n",
      "\n",
      "********************************************************\n",
      "Note: As of version 1.0.0, cowplot does not change the\n",
      "  default ggplot2 theme anymore. To recover the previous\n",
      "  behavior, execute:\n",
      "  theme_set(theme_cowplot())\n",
      "********************************************************\n",
      "\n"
     ]
    }
   ],
   "source": [
    "install.packages(\"grf\")\n",
    "install.packages(\"gridExtra\")\n",
    "install.packages(\"DiagrammeR\")\n",
    "install.packages(\"ggstance\")\n",
    "install.packages(\"itertools\")\n",
    "install.packages(\"truncnorm\")\n",
    "install.packages(\"ggplot2\")\n",
    "install.packages(\"tmvtnorm\")\n",
    "install.packages(\"MASS\")\n",
    "install.packages(\"lmtest\")\n",
    "install.packages(\"cowplot\")\n",
    "install.packages(\"plyr\")\n",
    "install.packages('latex2exp')\n",
    "install.packages(\"gridExtra\")\n",
    "\n",
    "library(grf)\n",
    "library(gridExtra)\n",
    "library(DiagrammeR)\n",
    "library(ggstance)\n",
    "library(itertools)\n",
    "library(truncnorm)\n",
    "library(tmvtnorm)\n",
    "library(ggplot2)\n",
    "library(foreign)\n",
    "library(MASS)\n",
    "library(lmtest)\n",
    "library(cowplot)\n",
    "library(plyr)\n",
    "library(latex2exp)\n",
    "library(gridExtra)"
   ]
  },
  {
   "cell_type": "code",
   "execution_count": 48,
   "metadata": {},
   "outputs": [],
   "source": [
    "source(\"functions.R\") #import functions"
   ]
  },
  {
   "cell_type": "code",
   "execution_count": 3,
   "metadata": {},
   "outputs": [],
   "source": [
    "set.seed(1) #set seed in order to ensure reproducibility"
   ]
  },
  {
   "cell_type": "markdown",
   "metadata": {},
   "source": [
    "## 1. Introduction"
   ]
  },
  {
   "cell_type": "markdown",
   "metadata": {},
   "source": [
    "This notebook assesses the use of causal forests for heterogenous treatment effect estimation and inference in a simulation study that is designed on the basis of a field experiment on monitoring corruption in Indonesia conducted by Olken (2007). It further applies different versions of causal forests to estimate average and conditional average treatment effects using the empirical data from the experiment.\n",
    "\n",
    "Causal forests are a method for nonparametric estimation of treatment effects that builds on the random forest algorithm developed by Breiman (2001). The causal forest algorithm has been developed and theoretically analyzed in seminal contributions by  Athey and Imbens (2016) and Wager and Athey (2018), and has been integrated into a more general theory of generalized random forests (Athey, Tibshirani and Wager 2019) whose algorithm is implemented in R package _grf_. This algorithm can be used to flexibly estimate a treatment effects as a function of covariates without knowing in advance which covariates might be moderators of the treatment effect.\n",
    "\n",
    "The simulation study in this project is modelled on the empirical set-up from a randomized experiment conducted by Olken (2007) that assesses the effect of audit on corruption in Indonesian villages. A key feature of this experiment is that randomization of treatment is administered at the level of subdistricts, which contain multiple villages, such that all villages from a given subdistrict either receive treatment or do not. Clustering poses an additional challenge for the causal forest algorithm because there might be cluster-specific idiosyncratic cluster-specific effects. This requires an adaption of the forest algorithm to this experimental design. For one thing, I will investigate the relative performance of cluster-robust and non-cluster-robust forests for predicting treatment effect heterogeneity. Further, the simulation study tests the performance of honest causal forests, which use independent samples for placing splits and leaf estimation thus reducing bias at the cost of a smaller sample size, against adaptive causal forests, which use the same sample for placing splits and leaf estimation. All these approaches will be compared to least-squares estimation of treatment effect heterogeneity in a linear regression model. This will underline the advantage of nonparametric methods for conditional treatment effect estimation when the true model is not precisely known, and on the other hand stress the strength of conventional estimation methods when the estimated model can be correctly specified. Further, the simulation study assesses coverage probabilities of causal forests at varying levels of model complexity. The insights from the simulation study are subsequently used to analyze the empirical data from the randomized experiment using causal forests.  \n",
    "\n",
    "This notebook proceeds as follows: Section 2 presents some theoretical background on causal forest that is used to formulate research questions. Section 3 briefly summarizes the article by Olken (2007). Section 4 contains the simulation study. Drawing on the insights from the simulation study, section 4 applies various versions of causal forests to the empirical data from the experiment. Section 5 concludes."
   ]
  },
  {
   "cell_type": "markdown",
   "metadata": {},
   "source": [
    "## 2. Causal Forests: Theoretical Background"
   ]
  },
  {
   "cell_type": "markdown",
   "metadata": {},
   "source": [
    "The explanation of the theoretical background for causal forests draws on the representation in Athey and Imbens (2016), Wager and Athey (2018) and Athey and Wager (2019). Athey, Tibshirani and Wager (2019) develop an algorithm for growing generalized random forests, which include causal forests as a special case. The algorithm is implemented in the R package grf, which includes the causal_forest function that is used in this project. The causal forest algorithm Athey, Tibshirani and Wager (2019) propose differs slightly from the algorithms in Athey and Imbens (2016) and Wager and Athey (2018). In particular, Athey, Tibshirani and Wager (2019) use an approximate criterion based on gradient-based approximations to nonlinear equations they are trying to solve to obtain estimates for the parameter of interest for tree-splitting, which results in greater computational efficiency. Athey, Tibshirani and Wager (2019) note that a special case of their (non-approximated) criterion function underlies the splitting rule in Athey and Imbens (2016) and provide a detailed proof of this proposition. Athey and Imbens (2016) develop their theory for causal forests specifically tailored to treatment effect estimation in the potential outcomes framework. This representation allows to much more comprehensibly develop hypotheses for the simulation study than the more general analysis of Athey, Tibshirani and Wager (2019). Athey and Imbens (2016) is also the main source Prof Janys used in the lecture to explain causal forests."
   ]
  },
  {
   "cell_type": "markdown",
   "metadata": {},
   "source": [
    "### 2.1 The Potential Outcomes Model"
   ]
  },
  {
   "cell_type": "markdown",
   "metadata": {},
   "source": [
    "Assume we have $n$ units indexed by $i=1,...,n$. Let $W_i \\in \\{0,1\\}$ be the treatment indicator, where $W_i=1$ if unit $i$ is assigned treatment and $W_i=0$ if unit $i$ is part of the control group. Let $X_i \\in \\mathbb{R}^k$ be a vector of covariates not affected by treatment. Causal effects are formulated in the potential outcomes framework, where for each unit $i$ one considers potential outcomes $Y_i(0)$ and $Y_i(1)$ if the observation had been in the control or treatment group, respectively. Define the average treatment effect as $\\tau={\\mathbb{E}[Y_i(1)-Y_i(0)]}$ and the conditional average treatment effect as $\\tau(x)={\\mathbb{E}[Y_i(1)-Y_i(0)|X_i=x]}$ (Athey and Wager 2019). The main objective of causal forests is to estimate the function $\\tau(x)$. Note that one can ever only observe either $Y_i(0)$ or $Y_i(1)$ and the forest can thus not be directly trained on unit-level differences $Y_i(1)-Y_i(0)$, which constitutes the main challenge for the causal forest algorithm (Wager and Athey 2018).\n",
    "\n",
    "One posits the assumption of unconfoundedness, i. e. that treatment assignment is independent of the potential outcomes conditional on covariates (Athey and Wager 2018):\n",
    "\\begin{equation}\n",
    "(Y_i(0), Y_i(1))\\perp \\!\\!\\! \\perp  W_i|X_i.\n",
    "\\tag{1}\n",
    "\\end{equation}\n",
    "\n",
    "In a randomized experiment as in the paper by Olken (2007), which serves as the benchmark for this project, the assumption of unconfoundedness holds even without conditioning on covariates as the propensity score $e(x)=Pr(W_i=1|X_i=x)$ can be written as $e(x)=z$ in this case, i. e. the treatment assignment probability does not depend on covariates and is thus constant for all units. Since this project focuses on estimation and inference of treatment effects in a randomized study, I will proceed with the outline of the theoretical background positing the stronger assumption of complete randomization $(Y_i(0), Y_i(1), X_i)\\perp \\!\\!\\! \\perp  W_i$ following the representation in (Athey and Imbens 2016).\n"
   ]
  },
  {
   "cell_type": "markdown",
   "metadata": {},
   "source": [
    "### 2.2 Honest and Adaptive Causal Forests"
   ]
  },
  {
   "cell_type": "markdown",
   "metadata": {},
   "source": [
    "The theoretical explanation provided in this subsection draws on the representation of honest and adaptive causal forests in Athey and Imbens (2016). I first introduce some vocabulary that is required for the further analysis. A tree $\\Pi$ is a partitioning of the covariate space $\\mathbb{X}$, where $\\#(\\Pi)$ denotes the elements of the partition. The tree can be written as the set of leaves whose union covers the covariate space, i. e. $\\Pi=\\{\\ell_1, ..., \\ell_{\\#(\\Pi)}\\}$ with $\\cup_{j=1}^{\\#(\\Pi)}\\ell_{j}=\\mathbb{X}$. Let $\\mathbb{S}$ be the space of samples. For a sample $\\mathcal{S}\\in\\mathbb{S}$ let $\\mathcal{S}_{treat}$ be the sample of treated units and $\\mathcal{S}_{control}$ be the sample of control units with $N_{treat}$ and $N_{control}$ denoting the number of treatment and control units, respectively. For each unit $i$ the researcher can observe the response $Y_i^{obs}$, $W_i$ and $X_i$. For a given tree $\\Pi$, realization of the covariate vector $x$ and treatment level $w$, define the average outcome by\n",
    "\\begin{equation}\n",
    "\\mu(w,x;\\Pi)=\\mathbb{E}[Y_i(w)|X_i\\in \\ell(x;\\Pi)]\n",
    "\\tag{2}\n",
    "\\end{equation}\n",
    "and accordingly the average causal effect by\n",
    "\\begin{equation}\n",
    "\\tau(x;\\Pi)=\\mathbb{E}[Y_i(1)-Y_i(0)|X_i\\in \\ell(x;\\Pi)]=\\mu(1,x;\\Pi)-\\mu(0,x;\\Pi).\n",
    "\\tag{3}\n",
    "\\end{equation}\n",
    "These can be estimated by \n",
    "\\begin{equation}\n",
    "\\hat{\\mu}(w,x;\\mathcal{S},\\Pi)=\\frac{1}{\\#(\\{i\\in\\mathcal{S}_w:X_i\\in\\ell(x;\\Pi)\\})}\\sum_{i\\in\\mathcal{S}_w:X_i\\in\\ell(x;\\Pi)}Y_i^{obs} \\,\\,\\text{and}\n",
    "\\tag{4}\n",
    "\\end{equation}\n",
    "\\begin{equation}\n",
    "\\hat{\\tau}(x;\\Pi)=\\hat{\\mu}(1,x;\\mathcal{S},\\Pi)-\\hat{\\mu}(0,x;\\mathcal{S},\\Pi).\n",
    "\\tag{5}\n",
    "\\end{equation}\n",
    "\n",
    "Athey and Imbens (2016) consider two different approaches for estimating treatment effects using causal trees: the adaptive approach and the honest approach. The honest approach uses an estimation sample $\\mathcal{S}^{est}$ for leaf estimation that is independent of the training sample $\\mathcal{S}^{tr}$ which was used to build the tree. The adaptive approach, on the other hand, uses a single (training) sample $\\mathcal{S}^{tr}$ both for placing splits and leaf estimation. These differences already hint at potential strengths and weaknesses of the respective approaches: since the honest approach splits the sample, there are less observations in both subsamples which might lead to inaccurate estimation of treatment effects. The adaptive approach is at risk of yielding too extreme estimates for the treatment effects because the splits might be based on observations that yield potentially spurious extreme treatment effects and these observations are then also used for leaf estimation rather than an independent estimation sample (Athey and Imbens 2016). This trade-off between the reduction in bias and sample size will be discussed in detail in the simulation study.\n",
    "\n",
    "For the honest approach, the authors introduce an adjusted mean squared error for the treatment effect as the objective function: \n",
    "\n",
    "\\begin{equation}\n",
    "MSE_{\\tau}(\\mathcal{S}^{te}, \\mathcal{S}^{est}, \\Pi)=\\frac{1}{N^{te}}\\sum_{i\\in\\mathcal{S}^{te}}\\big\\{(\\tau_i-\\hat{\\tau}(X_i; \\mathcal{S}^{est}, \\Pi))^2-\\tau_i^2\\big\\},\n",
    "\\tag{6}\n",
    "\\end{equation}\n",
    "\n",
    "where $\\mathcal{S}^{te}$ is an independent test sample and one shall note that substracting $\\tau_i^2$ does not affect how different estimators are ranked (Athey and Imbens 2016).\n",
    "\n",
    "The $EMSE(\\Pi)$ is the expectation of the adjusted mean squared error over the estimation and test sample:\n",
    "\n",
    "\\begin{equation}\n",
    "EMSE(\\Pi)=\\mathbb{E}_{\\mathcal{S}^{est}, \\mathcal{S}^{te}}[MSE_{\\tau}(S^{te}, S^{est}, \\Pi)].\n",
    "\\tag{7}\n",
    "\\end{equation}\n",
    "\n",
    "In the adaptive case, there is no independent estimation sample and the adjusted mean squared error therefore can be written as\n",
    "\n",
    "\\begin{equation}\n",
    "MSE_{\\tau}(S^{te}, S^{tr}, \\Pi)=\\frac{1}{N^{te}}\\sum_{i\\in\\mathcal{S}^{te}}\\big\\{(\\tau_i-\\hat{\\tau}(X_i; \\mathcal{S}^{tr}, \\Pi))^2-\\tau_i^2\\big\\}.\n",
    "\\tag{8}\n",
    "\\end{equation} Noting that\n",
    "\n",
    "\\begin{equation}\n",
    "\\mathbb{E}_{\\mathcal{S}^{te}}[\\tau_i|i\\in\\mathcal{S}^{te}:i\\in\\ell(x,\\Pi)]=\\mathbb{E}_{\\mathcal{S}^{te}}[\\hat{\\tau}(x;\\mathcal{S}^{te}, \\Pi)]\n",
    "\\tag{9}\n",
    "\\end{equation}\n",
    "\n",
    "and restricting only to the training sample for placing splits one obtains\n",
    "\n",
    "\\begin{equation}\n",
    "-\\widehat{MSE}_{\\tau}(S^{tr}, S^{tr}, \\Pi)=\\frac{1}{N^{tr}}\\sum_{i\\in\\mathcal{S}^{tr}}\\hat{\\tau}^2(X_i; \\mathcal{S}^{tr}, \\Pi)\n",
    "\\tag{10}\n",
    "\\end{equation}\n",
    "\n",
    "as an in-sample estimator for the infeasible adjusted mean squared error.\n",
    "\n",
    "For the honest approach, one in a first step expands the MSE by \n",
    "\n",
    "\\begin{equation}\n",
    "MSE_{\\tau}(S^{te}, S^{est}, \\Pi)=\\frac{1}{N^{te}}\\sum_{i\\in\\mathcal{S}^{te}}\\big\\{[\\tau_i-\\tau(X_i; \\Pi)+\\tau(X_i; \\Pi)-\\hat{\\tau}(X_i; \\mathcal{S}^{est}, \\Pi)]^2-\\tau_i^2\\big\\}.\n",
    "\\tag{11}\n",
    "\\end{equation}\n",
    "\n",
    "Applying expectation operators and noting that $\\mathbb{E}_{\\mathcal{S}^{est}}[\\hat{\\tau}(X_i; S^{est},\\Pi)]=\\tau(X_i; \\Pi)$, one obtains the expectation of the (negative) adjusted mean squared error over estimation and test samples as\n",
    "\n",
    "\\begin{equation}\n",
    "-EMSE_{\\tau}(\\Pi)=\\mathbb{E}_{X_i}[\\tau^2(X_i; \\Pi)]-\\mathbb{E}_{X_i, \\mathcal{S}^{est}}[\\mathbb{V}(\\hat{\\tau}(X_i; \\mathcal{S}^{est}, \\Pi)].\n",
    "\\tag{12}\n",
    "\\end{equation}\n",
    "\n",
    "Assuming approximately equal leaf size, one can estimate the first component in (12) by\n",
    "\n",
    "\\begin{equation}\n",
    "\\hat{\\mathbb{E}}(\\tau^2(x; \\Pi))=\\hat{\\tau}^2(x; \\mathcal{S}^{est}, \\Pi)-\\frac{1}{N^{tr}}\\sum_{\\ell \\in \\Pi}\\big(\\frac{S_{\\mathcal{S}^{tr}_{treat}}^2}{p}+\\frac{S_{\\mathcal{S}^{tr}_{control}}^2}{1-p}\\big), \n",
    "\\tag{13}\n",
    "\\end{equation}\n",
    "\n",
    "where the second term in (13) is introduced to account for the variance of $\\hat{\\tau}^2(x; \\mathcal{S}^{est}, \\Pi)$ and $S_{\\mathcal{S}^{tr}_{control}}^2$ and $S_{\\mathcal{S}^{tr}_{treated}}^2$ are estimates of the within-leaf variances of $Y_i$ of the treatment and control group respectively and $p$ is the share of treated units. \n",
    "\n",
    "Again, assuming approximately equal leaf size the second term in (12) can be estimated by \n",
    "\n",
    "\\begin{equation}\n",
    "\\hat{\\mathbb{E}}(\\mathbb{V}(\\hat{\\tau}(X_i; \\mathcal{S}^{est}, \\Pi))=\\frac{1}{N^{est}}\\sum_{\\ell \\in \\Pi}\\big(\\frac{S_{\\mathcal{S}^{tr}_{treat}}^2}{p}+\\frac{S_{\\mathcal{S}^{tr}_{control}}^2}{1-p}\\big). \n",
    "\\tag{14}\n",
    "\\end{equation}\n",
    "\n",
    "The estimators in (13) and (14) summed up  yield the in-sample estimator $-\\widehat{EMSE}_{\\tau}(\\Pi)$ for expected infeasible (negative) mean squared error.\n",
    "\n",
    "Both the adaptive and the honest approach thus reward heterogeneity in conditional treatment effect estimates. The honest approach further penalizes variance within leaves. Equations (13) and (14) help to understand splits how splits are made in the honest causal trees. I here draw on material provided in the online appendix to Davis and Heller (2017). The splitting algorithm for the adaptive case is straightforward because it simply does not include the within-leaf variance penalty, but is the same otherwise. \n",
    "\n",
    "One calculates the value of the objective function $O$ derived from (16) for the unpartitioned data: \n",
    "\n",
    "\\begin{equation}\n",
    "O=(N^{tr}_{treat;\\ell}+N^{tr}_{control;\\ell})*\\hat{\\tau}^2(X_i; \\mathcal{S}^{tr}, \\Pi)-2*\\big(\\frac{S_{\\mathcal{S}^{tr}_{treat};\\ell}^2}{N^{tr}_{treat;\\ell}}+\\frac{S_{\\mathcal{S}^{tr}_{control};\\ell}^2}{N^{tr}_{control;\\ell}}\\big).\n",
    "\\tag{15}\n",
    "\\end{equation}\n",
    "\n",
    "The split that maximizes the sum of the objective function in the child leaves (if there exists such a split) is implemented subject to a constraint on the minimum number of observations in the leaf.\n",
    "\n",
    "This concludes the explanation for a single causal tree. A causal forest grows B such trees drawing a new random subsample every time. The forest averages tree-specific treatment effects $\\hat{\\tau}_b(x)$ with $b\\in\\{1, ..., B\\}$ to predict $\\hat{\\tau}(x)=\\sum_{b=1}^B\\hat{\\tau}_b(x)$. I use the default settings of the causal_forest function which specify that half of the total sample is drawn for a given tree and, for the honest approach, this subsample is again splitted into two halves of equal size for splits and estimation.\n",
    "\n",
    "**Asymptotic Normality**\n",
    "\n",
    "Imposing the assumption of Lipschitz continuity of the estimated conditional mean functions, treatment propensities that are bounded away from zero and one, and a subsample size in each tree that scales below the size of the total sample,  Wager and Athey (2018) prove asymptotic Gaussianity of the conditional treatment effect prediction of the honest forest. Athey, Tibshirani and Wager (2019) use the results from Wager and Athey (2018) to establish Gaussianity in their setting.\n",
    "\n",
    "**Cluster-Robustness**\n",
    "\n",
    "When the observations can be assigned to clusters, there is a cluster-robust version of the causal forest in order to account for cluster-specific idiosyncratic moderators of the treatment effect. This causal forest draws a training subsample of clusters from the set of clusters $\\mathcal{C}_{b, tr}\\subset\\{1,...,C\\}$ in each tree. For the honest approach, the forest only considers observations to be out-of-bag in the estimation step if $C_i\\nsubseteq{\\mathcal{C}}_{b, tr}$ (Athey and Wager 2019). The causal_forest function allows to specify the number of observations drawn from each cluster. I set equalize_cluster_weights=True so that the number of observations drawn from each sample is equal to the number of observations from the cluster with the smallest number of observations, which might lead to loss in precision if the sample size is small but allows to predict a treatment effect of a new observation from a new cluster (Athey and Wager 2019)."
   ]
  },
  {
   "cell_type": "markdown",
   "metadata": {},
   "source": [
    "## 3. Brief Description of Olken (2007)"
   ]
  },
  {
   "cell_type": "markdown",
   "metadata": {},
   "source": [
    "Olken (2007) investigates the effect of top-down monitoring on corruption in village projects using data from a randomized controlled trial he conducted in around 600 Indonesian villages. By the time the experiment was launched, each village had received funds for road projects through a nationwide infrastructure program but had not yet started the construction. Randomly chosen villages were informed that their road project would be monitored by the central government audit agency, which meant an increase in the probability of external government audit from approximately 4 percent to 100 percent for these villages. Audits can lead to prosecution of village officials in the case of malfeasance (Olken 2007). Randomization was clustered at the subdistrict level. Audits were stratified by district and time the subdistrict had participated in the infrastructure program. The probability that a village receives the audit treatment is independent of all village or stratum characteristics, however, such that consistent estimation of the average treatment effect is possible even without including stratum fixed effects (Olken 2007). Since the author does not provide data on the time the subdistrict has participated in the infrastructure program and the probability that a subdistrict receives treatment is constant, I will not introduce a stratum variable in the simulation study. Two further treatments that meant to increase grassroots participation were administered, but these were independent of the audit treatment. After consulting with Prof Janys, I will disregard these further treatments in the simulation study in order to keep the data generating processes more tractable. Olken (2007)  uses the discrepancy between costs reported by the village and the estimate of an independent team of engineers as a measure of corruption."
   ]
  },
  {
   "cell_type": "markdown",
   "metadata": {},
   "source": [
    "## 4. Simulation Study"
   ]
  },
  {
   "cell_type": "markdown",
   "metadata": {},
   "source": [
    "This subsection contains my simulation study, first describing the data generating process and subsequently presenting main results."
   ]
  },
  {
   "cell_type": "code",
   "execution_count": 4,
   "metadata": {},
   "outputs": [],
   "source": [
    "randomization_data <- read.dta(\"/Users/gerwinkiessling/Desktop/jpepublic/jperandomizationdata.dta\")\n",
    "road_data <- read.dta(\"/Users/gerwinkiessling/Desktop/jpepublic/jperoaddata.dta\")"
   ]
  },
  {
   "cell_type": "markdown",
   "metadata": {},
   "source": [
    "### 4.1 The Data Generating Process"
   ]
  },
  {
   "cell_type": "markdown",
   "metadata": {},
   "source": [
    "The following variables from the original article (Olken 2007) were used in the simulation study:\n",
    "\n",
    "* ln_diff_items: Dependent variable, i.e. log of difference in engineers' estimate of costs and costs reported by the village for major items in roads and ancilliary projects \n",
    "* audit: Audit treatment, i.e. increasing the probability of external government audit from 4 to 100 percent\n",
    "* population: Village Population (in 1,000)\n",
    "* mosques: Mosques per 1,000 population\n",
    "* totalallocation: Total budget (in rp. million)\n",
    "* subprojects: Number of subprojects\n",
    "* percentage_poor: Percentage of household that are poor\n",
    "* distance: Distance to subdistrict\n",
    "* head_education_years: Village head years of education\n",
    "* head_salary: Village head salary (hectares)\n",
    "* head_age: Village head age\n",
    "* mountainous: Mountainous dummy.\n",
    "\n",
    "**Covariates**\n",
    "\n",
    "For the continuous control variables, i.e. the control variables excluding the mountainous dummy, I in a first step calculate means, and a covariance matrix from the empirical data. I evaluated  histograms for the respective variables, which reveal that the distibution of most variables is well approximated by a truncated normal distribution. I thus chose to simulate data for all continuous variables by drawing from a truncated multivariate normal distribution using the estimated mean vector and covariance matrix as inputs. I specify 0 as the lower bound for all variables and introduce an upper bound of 1 for the percentage_poor variable, while specifying no upper bound for the remaining variables. I proceed by estimating a logit model using the empirical data with the mountainous dummy as the dependent variable and the continuous covariates as the explanatory variables, and use the estimated coefficients to calculate the probability that a village is mountainous based on the simulated data for the continuous covariates. I use this probability to draw randomly from a binomial distribution, where the outcome determines whether a village is mountainous or not in the simulated data.\n",
    "\n",
    "**Clustering and Randomization**\n",
    "\n",
    "As treatment is perfectly correlated within a subdistrict, I proceed by generating clusters. To this end, population size, number of mosques, the total budget, the percentage of poor households and the mountainous dummy are defined as similarity variables imposing the assumption that villages from the same subdistrict should be somewhat similar along these dimensions. I scale each similarity variable by subtracting the mean from the respective village observation and dividing by the standard deviation in order to make the similarity variables comparable. Then a similarity score is obtained by summing up the realizations of the scaled similarity variables and an error term $\\eta_i\\sim\\mathcal{N}(0, 1)$ in order to introduce some randomness in the process of clustering. I then order the village observations by the similarity score. There are around 150 subdistricts with differing numbers of villages per cluster in the empirical dataset, yielding an average of around 4 villages. Mimicking the feature of unevenly sized clusters from the empirical dataset, I generate heterogeneity in cluster sizes introducing three different cluster sizes. For the baseline case of 600 villages and 150 subdistricts, for instance, there are clusters of sizes 3, 4 and 5. For the case of 6000 villages and 150 subdistricts, there are clusters of sizes 30, 40 and 50. A 48 percent chance of treatment for each subdistrict as in the original article (Olken 2007) is subsequently implemented.\n",
    "\n",
    "**Modelling the Outcome Variable**\n",
    "\n",
    "The outcome variable log of difference in major items is generated using different models of varying complexity. These were specified after performing least-squares estimation on the empirical data of different regression models including interactions of covariates with the audit treatment. Covariates and interactions for which coefficient estimates revealed higher levels of statistical significance were included in the simulation models and the corresponding coefficient estimates were chosen to be of similar magnitude as the estimates on the empirical data.\n",
    "\n",
    "* The Simple Model\n",
    "\n",
    "\\begin{equation}\n",
    "\\ln diff\\_items_{ij}=0.22-0.07*audit_j+0.0001*totalallocation_{ij}+0.017*head\\_salary_{ij}+0.016*audit_j*head\\_ +\\epsilon_{ij}\n",
    "\\tag{16}\n",
    "\\end{equation}\n",
    "\n",
    "This model thus just includes the salary of the village head as a treatment effect moderator.\n",
    "\n",
    "* The Idiosyncratic Effects Model\n",
    "\n",
    "The idiosyncratic effects model extends the simple model by adding cluster-specific effects $\\beta_j$ on the outcome and cluster-specific moderations of the treatment effect $\\eta_j*audit_j$  to the right hand side of (19), where $\\beta_j, \\eta_j \\sim \\mathcal{N}(-0.05, 1)$ These cluster-specific effects cannot be explained using covariates. This choice of modelling is motivated by Athey and Wager (2019).\n",
    "\n",
    "* The Medium Complexity Model\n",
    "\n",
    "\\begin{equation}\n",
    "\\ln diff\\_items_{ij}= 0.27  -0.11*audit_j  +0.0001*totalallocation_{ij}  -0.016head\\_education\\_years_{ij}  +0.007*head\\_salary_{ij} -0.0002*head\\_salary_{ij}^2 +0.00003*head\\_salary_{ij}*totalallocation{ij} -0.001*audit_{j}*head\\_ totalallocation_{ij} +0.01audit_{j}*head\\_ salary_{ij} +0.0002*audit_{j}*head\\_ salary_{ij}^2 +0.00002*audit_{j}*head\\_ salary_{ij}*totalallocation_{ij}+\\epsilon_{ij}\n",
    "\\tag{17}\n",
    "\\end{equation}\n",
    "\n",
    "* The Complex Model\n",
    "\n",
    "\\begin{equation}\n",
    "\\ln diff\\_items_{ij}=0.5 -\n",
    "    0.05*audit_{ij}-\n",
    "    0.003*head\\_age_{ij}\n",
    "    0.01*percentage\\_poor_{ij}-\n",
    "    0.001*population_{ij}-\n",
    "    0.01*mosques_{ij}-\n",
    "    0.0005*totalallocation_{ij}+\n",
    "    0.005*head\\_salary_{ij}-\n",
    "    0.001*distance_{ij}-\n",
    "    0.002*subprojects_{ij}-\n",
    "    0.2*audit_j*percentage\\_poor_{ij}-\n",
    "    0.02*audit_j*population_{ij}-\n",
    "    0.004*audit_j*mosques_{ij}-\n",
    "    0.002*audit_j*totalallocation_{ij}-\n",
    "    0.006*audit_j*head\\_salary_{ij}+\n",
    "    0.0002*audit_j*distance_{ij}+\n",
    "    0.008*audit_j*subprojects_{ij}+\n",
    "    \\epsilon_{ij},\n",
    "    \\tag{18}\n",
    "\\end{equation}\n",
    "\n",
    "\n",
    "where $\\boldsymbol\\epsilon\\sim\\mathcal{N}\\big(\\boldsymbol0, \\Sigma\\big)$. For villages $i$ and $k$ the entry of the covariance matrix is given by\n",
    "\n",
    "\\begin{equation}\n",
    "\\Sigma_{ik}=\\begin{cases}\n",
    "0 \\,\\, \\text{if} \\,\\,subdistrict_i\\neq subdistrict_k\\\\\n",
    "\\rho\\sigma^2\\,\\, \\text{if}\\,\\,subdistrict_i=subdistrict_k \\,\\,\\text{and}\\,\\, i\\neq k\\\\\n",
    "\\sigma^2 \\,\\, \\text{if} \\,\\,i=k\n",
    "\\tag{19}\n",
    "\\end{cases}\n",
    "\\end{equation}\n",
    "\n",
    "adopting a covariance matrix structure from Abadie et al. (2017) that allows for intra-cluster correlation of residuals. I choose $\\sigma=0.001$ and $\\rho=0.2$ for all models.\n",
    "\n",
    "In the main results table 1 I generate the outcome using these 4 models. I estimate the parameters for these  models using least-squares estimation of the simple, medium and complex model as well as a misspecified medium complexity model that, compared to the medium complexity model, does not include head\\_education\\_years as a regressor and instead of the triple interaction includes the square of total_allocation as a moderator, but is otherwise identical. For the simple, medium and complex model I train forests using the covariates listed above. When the true model is the idiosyncratic model, I further extend the village-level covariates from above by the three invented subdistrict-level variables radio (radio stations in the subdistrict), literacy (the literacy rate in the subdistrict) and legal_spending (per capita legal spending in the subdistrict) by drawing randomly from a truncated normal distribution and use all these covariates to train the forest."
   ]
  },
  {
   "cell_type": "markdown",
   "metadata": {},
   "source": [
    "**Research Questions**"
   ]
  },
  {
   "cell_type": "markdown",
   "metadata": {},
   "source": [
    "I seek to find answers to the following research questions in my simulation study:\n",
    "\n",
    "1. Does the adaptive forest outperform the honest forest in terms of the infeasible mean squared error for the treatment effect for small sample sizes, as the theoretical results from above suggest? If yes, does this advantage disappear when increasing the sample size through the reduction in bias brought about by the sample splitting of the honest approach?\n",
    "2. Do cluster-robust honest forests outperform non-cluster-robust honest forests in terms of accurately predicting heterogenous treatment effects and coverage probabilities of the true conditional treatment effect?\n",
    "3. How does the least squares estimator compare to the causal forest algorithms in terms of the infeasible MSE for the treatment effect when using different true and estimated models?\n",
    "4. How do the coverage probabilities change when introducing more model complexity?"
   ]
  },
  {
   "cell_type": "markdown",
   "metadata": {},
   "source": [
    "### 4.2 Results"
   ]
  },
  {
   "cell_type": "markdown",
   "metadata": {},
   "source": [
    "Table 1 presents the results of the simulation study. It shows the infeasible mean squared error for the treatment effect for the four estimated linear models as well as the honest and adaptive forest, with and without clustering. Note that the infeasible mean squared error as opposed to the infeasible adjusted mean squared error from above is used here for evaluation of the methods adopting the approach of e. g. Athey, Tisbhirani and Wagner (2019). I from now on use the abbreviation 'MSE' for infeasible mean squared error. In the case of the idiosyncratic model, I calculate the MSE in terms of the deviation of the estimate from the true treatment effect conditional on covariates without the the idiosyncratic random component. I do this because I am specifically interested in how successful the cluster-robust and non-clustered-robust approaches are at accurately characterizing the true conditional treatment effect function.\n",
    "\n",
    "In the next two paragraphs, one shall restrict attention to the baseline models (simple, medium, complex) without idiosyncratic effects for the comparison of the adaptive and honest approach and the comparison with the linear model. (The idiosyncratic model induces intra-cluster dependence in a stylized and extreme fashion, which causes the adaptive approach to perform poorly, and I further did not estimate a specific parametric model to capture cluster-specific effects.)\n",
    "Consistent with the theoretical properties of the adaptive and honest causal forests explained in section 2, adaptive causal forests outperform honest causal forests if the sample size is small. The relative performance of the adaptive and honest causal forest in the large sample depends on the complexity of the true data generating process. For the simple model, the honest forest outperforms the adaptive forest. Both types of forest are almost equivalent for the medium complexity model, and the adaptive forest still performs better than the honest one for the complex model. The finding that the honest forest struggles to catch up on the adaptive forest in terms of MSE if the true model is complex is consistent with the results from the simulation study in Athey and Imbens (2016). When the true data generating process is complex, the forests require more data to accurately capture heterogeneity in the conditional treatment effect function. The loss of accuracy that results from splitting up the sample in the complex case outweighs the reduction in bias from performing leaf estimation on an independent sample.\n",
    "\n",
    "The MSE for any given data generating process (simple, medium or complex) is always least for the correctly specified estimated linear model, irrespective of sample size. The causal forests, however, tends to outperform the least squares estimator in terms of MSE if the estimated model is incorrectly specified, stressing the advantage of flexible nonparametric estimation when the true data generating process is unknown. The non-cluster-robust honest forests tend to slightly outperform the cluster-robust forests, which can be explained by the fact that the cluster-robust forests use less observations by always taking from each subdistrict only as many observations as there are in the smallest cluster. Nominal coverage probability of 90 percent is not achieved by the causal forests in any of the three models (simple, medium, complex) in the small sample. The honest causal forest fails to achieve nominal coverage even in the large sample for the medium complexity and the high complexity model. The result that the forests struggles to achieve coverage if the set of covariates affecting treatment is large is consistent with the simulation study in the supplementary material to Athey, Tibshirani and Wager (2019) and has been noted repeatedly by the developers of causal forest methods (see, e.g. Athey 2018). There is no systematic difference in terms of coverage between the cluster-robust and non-cluster-robust forests, which is as expected since I here do not introduce any subdistrict-specific treatment effect for the three baseline models.\n",
    "\n",
    "In this paragraph, we shall focus on the idiosyncratic model. In the large sample, the honest non-cluster-robust forest outperforms the honest cluster-robust forest in terms of MSE. This is because the cluster-robust forest only takes observations from a given set of clusters for placing splits. The quality of these splits is low because the forest erroneously attributes idiosyncratic variation in treatment effects to the subdistrict-level covariates radio, literacy rate and legal spending, which do not have any influence on the treatment. Leaf  estimation is based on these poor splits which results in inaccurate treatment effect estimates. The non-cluster-robust forest randomly draws subsamples for splitting and estimation without considering the subdistrict. The subsamples are therefore more heterogenous with respect to the subdistrict-level covariates and the risk of detecting subdistrict-level covariates as treatment effect modifiers is smaller. This mechanism also explains why the non-clustered adaptive forest outperforms the clustered adaptive forest in the large sample. In the small sample, the honest cluster-robust forest outperforms the honest non-cluster-robust forest. This is because there are less observations in each subdistrict such that causal forest correctly does not identify the subdistrict-level covariates as treatment effect modifiers. The honest cluster-robust forest then uses an independent set of clusters for leaf estimation based on well-placed splits. The honest non-cluster-robust forest, however, in part uses new observations from the clusters that were used to place the splits, which biases the estimates. In both the small and the large sample, the cluster-robust honest forest detects the uncertainty in the conditional treatment effects and thus yields larger variance estimates. This results in substantially greater coverage probabilities close to the nominal coverage rate."
   ]
  },
  {
   "cell_type": "markdown",
   "metadata": {},
   "source": [
    "---"
   ]
  },
  {
   "cell_type": "markdown",
   "metadata": {},
   "source": [
    "**Table 1: Main Results**"
   ]
  },
  {
   "cell_type": "code",
   "execution_count": 5,
   "metadata": {},
   "outputs": [
    {
     "data": {
      "text/html": [
       "<table>\n",
       "<thead><tr><th></th><th scope=col>True model: simple. Training observations: 600</th><th scope=col>True model: medium. Training observations: 600</th><th scope=col>True model: complex. Training observations: 600</th><th scope=col>True model: idiosyncratic. Training observations: 600</th><th scope=col>True model: simple. Training observations: 6000</th><th scope=col>True model: medium. Training observations: 6000</th><th scope=col>True model: complex. Training observations: 6000</th><th scope=col>True model: idiosyncratic. Training observations: 6000</th></tr></thead>\n",
       "<tbody>\n",
       "\t<tr><th scope=row>MSE Low Complexity Estimated Linear Model</th><td>7.020538e-06</td><td>0.001163616 </td><td>0.01217589  </td><td>0.02275201  </td><td>1.031304e-05</td><td>0.001090612 </td><td>0.01288671  </td><td>0.1164931   </td></tr>\n",
       "\t<tr><th scope=row>MSE Misspecified Medium Complexity Estimated Linear Model</th><td>1.719151e-05</td><td>0.001234082 </td><td>0.003277858 </td><td>0.04353131  </td><td>1.20866e-05 </td><td>0.001114608 </td><td>0.003321784 </td><td>0.1738235   </td></tr>\n",
       "\t<tr><th scope=row>MSE Medium Complexity Estimated Linear Model</th><td>2.080602e-05</td><td>4.261549e-05</td><td>0.003309731 </td><td>0.04329454  </td><td>1.23762e-05 </td><td>1.526812e-05</td><td>0.003328554 </td><td>0.173195    </td></tr>\n",
       "\t<tr><th scope=row>MSE High Complexity Estimated Linear Model</th><td>4.965727e-05</td><td>0.001193024 </td><td>4.569593e-05</td><td>0.05821725  </td><td>2.254382e-05</td><td>0.001102286 </td><td>9.399275e-06</td><td>0.3066896   </td></tr>\n",
       "\t<tr><th scope=row>MSE Honest, Cluster-Robust CF</th><td>0.0003183614</td><td>0.001303032 </td><td>0.002700205 </td><td>0.1056736   </td><td>8.085712e-05</td><td>0.0002003864</td><td>0.001193299 </td><td>0.2300084   </td></tr>\n",
       "\t<tr><th scope=row>MSE Honest, not Cluster-Robust CF</th><td>0.0002816275</td><td>0.001145817 </td><td>0.002431932 </td><td>0.1903332   </td><td>7.129168e-05</td><td>0.0001629842</td><td>0.001058649 </td><td>0.04901715  </td></tr>\n",
       "\t<tr><th scope=row>MSE Adaptive, Clustered CF</th><td>0.0001967387</td><td>0.0009699895</td><td>0.001464058 </td><td>0.6206165   </td><td>9.368463e-05</td><td>0.0001534603</td><td>0.0005345429</td><td>0.6396104   </td></tr>\n",
       "\t<tr><th scope=row>MSE Adaptive, not Clustered CF</th><td>0.0002270606</td><td>0.0008383847</td><td>0.00146748  </td><td>0.6457067   </td><td>0.0001064245</td><td>0.0001479785</td><td>0.0005352103</td><td>0.05379867  </td></tr>\n",
       "\t<tr><th scope=row>Coverage Probability Honest, Cluster-Robust CF</th><td>0.6948333</td><td>0.4341667</td><td>0.4253333</td><td>0.8836667</td><td>0.7086667</td><td>0.6138333</td><td>0.4703333</td><td>0.797    </td></tr>\n",
       "\t<tr><th scope=row>Coverage Probability Honest, not Cluster-Robust CF</th><td>0.7671667</td><td>0.4693333</td><td>0.4466667</td><td>0.5      </td><td>0.7568333</td><td>0.6266667</td><td>0.4771667</td><td>0.1321667</td></tr>\n",
       "</tbody>\n",
       "</table>\n"
      ],
      "text/latex": [
       "\\begin{tabular}{r|llllllll}\n",
       "  & True model: simple. Training observations: 600 & True model: medium. Training observations: 600 & True model: complex. Training observations: 600 & True model: idiosyncratic. Training observations: 600 & True model: simple. Training observations: 6000 & True model: medium. Training observations: 6000 & True model: complex. Training observations: 6000 & True model: idiosyncratic. Training observations: 6000\\\\\n",
       "\\hline\n",
       "\tMSE Low Complexity Estimated Linear Model & 7.020538e-06 & 0.001163616  & 0.01217589   & 0.02275201   & 1.031304e-05 & 0.001090612  & 0.01288671   & 0.1164931   \\\\\n",
       "\tMSE Misspecified Medium Complexity Estimated Linear Model & 1.719151e-05 & 0.001234082  & 0.003277858  & 0.04353131   & 1.20866e-05  & 0.001114608  & 0.003321784  & 0.1738235   \\\\\n",
       "\tMSE Medium Complexity Estimated Linear Model & 2.080602e-05 & 4.261549e-05 & 0.003309731  & 0.04329454   & 1.23762e-05  & 1.526812e-05 & 0.003328554  & 0.173195    \\\\\n",
       "\tMSE High Complexity Estimated Linear Model & 4.965727e-05 & 0.001193024  & 4.569593e-05 & 0.05821725   & 2.254382e-05 & 0.001102286  & 9.399275e-06 & 0.3066896   \\\\\n",
       "\tMSE Honest, Cluster-Robust CF & 0.0003183614 & 0.001303032  & 0.002700205  & 0.1056736    & 8.085712e-05 & 0.0002003864 & 0.001193299  & 0.2300084   \\\\\n",
       "\tMSE Honest, not Cluster-Robust CF & 0.0002816275 & 0.001145817  & 0.002431932  & 0.1903332    & 7.129168e-05 & 0.0001629842 & 0.001058649  & 0.04901715  \\\\\n",
       "\tMSE Adaptive, Clustered CF & 0.0001967387 & 0.0009699895 & 0.001464058  & 0.6206165    & 9.368463e-05 & 0.0001534603 & 0.0005345429 & 0.6396104   \\\\\n",
       "\tMSE Adaptive, not Clustered CF & 0.0002270606 & 0.0008383847 & 0.00146748   & 0.6457067    & 0.0001064245 & 0.0001479785 & 0.0005352103 & 0.05379867  \\\\\n",
       "\tCoverage Probability Honest, Cluster-Robust CF & 0.6948333 & 0.4341667 & 0.4253333 & 0.8836667 & 0.7086667 & 0.6138333 & 0.4703333 & 0.797    \\\\\n",
       "\tCoverage Probability Honest, not Cluster-Robust CF & 0.7671667 & 0.4693333 & 0.4466667 & 0.5       & 0.7568333 & 0.6266667 & 0.4771667 & 0.1321667\\\\\n",
       "\\end{tabular}\n"
      ],
      "text/markdown": [
       "\n",
       "| <!--/--> | True model: simple. Training observations: 600 | True model: medium. Training observations: 600 | True model: complex. Training observations: 600 | True model: idiosyncratic. Training observations: 600 | True model: simple. Training observations: 6000 | True model: medium. Training observations: 6000 | True model: complex. Training observations: 6000 | True model: idiosyncratic. Training observations: 6000 |\n",
       "|---|---|---|---|---|---|---|---|---|\n",
       "| MSE Low Complexity Estimated Linear Model | 7.020538e-06 | 0.001163616  | 0.01217589   | 0.02275201   | 1.031304e-05 | 0.001090612  | 0.01288671   | 0.1164931    |\n",
       "| MSE Misspecified Medium Complexity Estimated Linear Model | 1.719151e-05 | 0.001234082  | 0.003277858  | 0.04353131   | 1.20866e-05  | 0.001114608  | 0.003321784  | 0.1738235    |\n",
       "| MSE Medium Complexity Estimated Linear Model | 2.080602e-05 | 4.261549e-05 | 0.003309731  | 0.04329454   | 1.23762e-05  | 1.526812e-05 | 0.003328554  | 0.173195     |\n",
       "| MSE High Complexity Estimated Linear Model | 4.965727e-05 | 0.001193024  | 4.569593e-05 | 0.05821725   | 2.254382e-05 | 0.001102286  | 9.399275e-06 | 0.3066896    |\n",
       "| MSE Honest, Cluster-Robust CF | 0.0003183614 | 0.001303032  | 0.002700205  | 0.1056736    | 8.085712e-05 | 0.0002003864 | 0.001193299  | 0.2300084    |\n",
       "| MSE Honest, not Cluster-Robust CF | 0.0002816275 | 0.001145817  | 0.002431932  | 0.1903332    | 7.129168e-05 | 0.0001629842 | 0.001058649  | 0.04901715   |\n",
       "| MSE Adaptive, Clustered CF | 0.0001967387 | 0.0009699895 | 0.001464058  | 0.6206165    | 9.368463e-05 | 0.0001534603 | 0.0005345429 | 0.6396104    |\n",
       "| MSE Adaptive, not Clustered CF | 0.0002270606 | 0.0008383847 | 0.00146748   | 0.6457067    | 0.0001064245 | 0.0001479785 | 0.0005352103 | 0.05379867   |\n",
       "| Coverage Probability Honest, Cluster-Robust CF | 0.6948333 | 0.4341667 | 0.4253333 | 0.8836667 | 0.7086667 | 0.6138333 | 0.4703333 | 0.797     |\n",
       "| Coverage Probability Honest, not Cluster-Robust CF | 0.7671667 | 0.4693333 | 0.4466667 | 0.5       | 0.7568333 | 0.6266667 | 0.4771667 | 0.1321667 |\n",
       "\n"
      ],
      "text/plain": [
       "                                                          True model: simple. Training observations: 600\n",
       "MSE Low Complexity Estimated Linear Model                 7.020538e-06                                  \n",
       "MSE Misspecified Medium Complexity Estimated Linear Model 1.719151e-05                                  \n",
       "MSE Medium Complexity Estimated Linear Model              2.080602e-05                                  \n",
       "MSE High Complexity Estimated Linear Model                4.965727e-05                                  \n",
       "MSE Honest, Cluster-Robust CF                             0.0003183614                                  \n",
       "MSE Honest, not Cluster-Robust CF                         0.0002816275                                  \n",
       "MSE Adaptive, Clustered CF                                0.0001967387                                  \n",
       "MSE Adaptive, not Clustered CF                            0.0002270606                                  \n",
       "Coverage Probability Honest, Cluster-Robust CF            0.6948333                                     \n",
       "Coverage Probability Honest, not Cluster-Robust CF        0.7671667                                     \n",
       "                                                          True model: medium. Training observations: 600\n",
       "MSE Low Complexity Estimated Linear Model                 0.001163616                                   \n",
       "MSE Misspecified Medium Complexity Estimated Linear Model 0.001234082                                   \n",
       "MSE Medium Complexity Estimated Linear Model              4.261549e-05                                  \n",
       "MSE High Complexity Estimated Linear Model                0.001193024                                   \n",
       "MSE Honest, Cluster-Robust CF                             0.001303032                                   \n",
       "MSE Honest, not Cluster-Robust CF                         0.001145817                                   \n",
       "MSE Adaptive, Clustered CF                                0.0009699895                                  \n",
       "MSE Adaptive, not Clustered CF                            0.0008383847                                  \n",
       "Coverage Probability Honest, Cluster-Robust CF            0.4341667                                     \n",
       "Coverage Probability Honest, not Cluster-Robust CF        0.4693333                                     \n",
       "                                                          True model: complex. Training observations: 600\n",
       "MSE Low Complexity Estimated Linear Model                 0.01217589                                     \n",
       "MSE Misspecified Medium Complexity Estimated Linear Model 0.003277858                                    \n",
       "MSE Medium Complexity Estimated Linear Model              0.003309731                                    \n",
       "MSE High Complexity Estimated Linear Model                4.569593e-05                                   \n",
       "MSE Honest, Cluster-Robust CF                             0.002700205                                    \n",
       "MSE Honest, not Cluster-Robust CF                         0.002431932                                    \n",
       "MSE Adaptive, Clustered CF                                0.001464058                                    \n",
       "MSE Adaptive, not Clustered CF                            0.00146748                                     \n",
       "Coverage Probability Honest, Cluster-Robust CF            0.4253333                                      \n",
       "Coverage Probability Honest, not Cluster-Robust CF        0.4466667                                      \n",
       "                                                          True model: idiosyncratic. Training observations: 600\n",
       "MSE Low Complexity Estimated Linear Model                 0.02275201                                           \n",
       "MSE Misspecified Medium Complexity Estimated Linear Model 0.04353131                                           \n",
       "MSE Medium Complexity Estimated Linear Model              0.04329454                                           \n",
       "MSE High Complexity Estimated Linear Model                0.05821725                                           \n",
       "MSE Honest, Cluster-Robust CF                             0.1056736                                            \n",
       "MSE Honest, not Cluster-Robust CF                         0.1903332                                            \n",
       "MSE Adaptive, Clustered CF                                0.6206165                                            \n",
       "MSE Adaptive, not Clustered CF                            0.6457067                                            \n",
       "Coverage Probability Honest, Cluster-Robust CF            0.8836667                                            \n",
       "Coverage Probability Honest, not Cluster-Robust CF        0.5                                                  \n",
       "                                                          True model: simple. Training observations: 6000\n",
       "MSE Low Complexity Estimated Linear Model                 1.031304e-05                                   \n",
       "MSE Misspecified Medium Complexity Estimated Linear Model 1.20866e-05                                    \n",
       "MSE Medium Complexity Estimated Linear Model              1.23762e-05                                    \n",
       "MSE High Complexity Estimated Linear Model                2.254382e-05                                   \n",
       "MSE Honest, Cluster-Robust CF                             8.085712e-05                                   \n",
       "MSE Honest, not Cluster-Robust CF                         7.129168e-05                                   \n",
       "MSE Adaptive, Clustered CF                                9.368463e-05                                   \n",
       "MSE Adaptive, not Clustered CF                            0.0001064245                                   \n",
       "Coverage Probability Honest, Cluster-Robust CF            0.7086667                                      \n",
       "Coverage Probability Honest, not Cluster-Robust CF        0.7568333                                      \n",
       "                                                          True model: medium. Training observations: 6000\n",
       "MSE Low Complexity Estimated Linear Model                 0.001090612                                    \n",
       "MSE Misspecified Medium Complexity Estimated Linear Model 0.001114608                                    \n",
       "MSE Medium Complexity Estimated Linear Model              1.526812e-05                                   \n",
       "MSE High Complexity Estimated Linear Model                0.001102286                                    \n",
       "MSE Honest, Cluster-Robust CF                             0.0002003864                                   \n",
       "MSE Honest, not Cluster-Robust CF                         0.0001629842                                   \n",
       "MSE Adaptive, Clustered CF                                0.0001534603                                   \n",
       "MSE Adaptive, not Clustered CF                            0.0001479785                                   \n",
       "Coverage Probability Honest, Cluster-Robust CF            0.6138333                                      \n",
       "Coverage Probability Honest, not Cluster-Robust CF        0.6266667                                      \n",
       "                                                          True model: complex. Training observations: 6000\n",
       "MSE Low Complexity Estimated Linear Model                 0.01288671                                      \n",
       "MSE Misspecified Medium Complexity Estimated Linear Model 0.003321784                                     \n",
       "MSE Medium Complexity Estimated Linear Model              0.003328554                                     \n",
       "MSE High Complexity Estimated Linear Model                9.399275e-06                                    \n",
       "MSE Honest, Cluster-Robust CF                             0.001193299                                     \n",
       "MSE Honest, not Cluster-Robust CF                         0.001058649                                     \n",
       "MSE Adaptive, Clustered CF                                0.0005345429                                    \n",
       "MSE Adaptive, not Clustered CF                            0.0005352103                                    \n",
       "Coverage Probability Honest, Cluster-Robust CF            0.4703333                                       \n",
       "Coverage Probability Honest, not Cluster-Robust CF        0.4771667                                       \n",
       "                                                          True model: idiosyncratic. Training observations: 6000\n",
       "MSE Low Complexity Estimated Linear Model                 0.1164931                                             \n",
       "MSE Misspecified Medium Complexity Estimated Linear Model 0.1738235                                             \n",
       "MSE Medium Complexity Estimated Linear Model              0.173195                                              \n",
       "MSE High Complexity Estimated Linear Model                0.3066896                                             \n",
       "MSE Honest, Cluster-Robust CF                             0.2300084                                             \n",
       "MSE Honest, not Cluster-Robust CF                         0.04901715                                            \n",
       "MSE Adaptive, Clustered CF                                0.6396104                                             \n",
       "MSE Adaptive, not Clustered CF                            0.05379867                                            \n",
       "Coverage Probability Honest, Cluster-Robust CF            0.797                                                 \n",
       "Coverage Probability Honest, not Cluster-Robust CF        0.1321667                                             "
      ]
     },
     "metadata": {},
     "output_type": "display_data"
    }
   ],
   "source": [
    "table_function(observations=c(600, 6000), n_test=6000, \n",
    "               models=c('simple', 'medium', 'complex', 'idiosyncratic'),\n",
    "               n.trees=2000, N_clusters=150)"
   ]
  },
  {
   "cell_type": "markdown",
   "metadata": {},
   "source": [
    "_Note: The table shows the infeasible mean squared error for the treatment effect for four estimated linear models and adaptive and honest cluster-robust and non-cluster-robust forest as well as coverage probabilities. The number of variables considered at each split was set to 7._"
   ]
  },
  {
   "cell_type": "markdown",
   "metadata": {},
   "source": [
    "---"
   ]
  },
  {
   "cell_type": "markdown",
   "metadata": {},
   "source": [
    "**Model Misspecification and the Value of Nonparametric Estimation**\n",
    "\n",
    "Figure 2 attempts to display a typical situation a researcher mind find herself in who suspects heterogeneity in treatment effects along two dimensions, in this case the total budget of the village and the salary of the village head. She may estimate the misspecified medium complexity model including simple interactions and interactions between the treatment and the squares of the total budget and the village head salary. The true data generating process, however, might be given by the medium complexity model that, beyond the simple interactions, includes a triple interaction and an interaction between treatment and the square of village head salary. As figure 1 shows, if the researcher estimates the correctly specified model, the estimated treatment effect function $\\hat{\\tau}(x)_{linear, \\, true}$ provides a better fit to the true treatment effect function $\\tau(x)$ than the honest causal forest does. In particular, the increase in the treatment effect for large salaries and large budgets is more accurately captured in the correctly specified linear model. The estimated treatment effect function using the causal forest $\\hat{\\tau}(x)_{honest \\, CF}$ performs better than the misspecified linear model in characterizing the true treatment effect function. This illustrates one advantage of using causal forests over estimating parametric models: the causal forest does not impose specific functional forms and the researcher can thus hope to obtain fairly accurate estimates of conditional average treatment effects even without knowing the true data generating process."
   ]
  },
  {
   "cell_type": "markdown",
   "metadata": {},
   "source": [
    "---"
   ]
  },
  {
   "cell_type": "markdown",
   "metadata": {},
   "source": [
    "**Figure 2: The Value of Nonparametric Estimation**"
   ]
  },
  {
   "cell_type": "code",
   "execution_count": null,
   "metadata": {},
   "outputs": [],
   "source": [
    "figure1(n_test=6000, n_train=6000, n.trees=2000, model='medium', N_clusters=150)"
   ]
  },
  {
   "cell_type": "markdown",
   "metadata": {},
   "source": [
    "_Note: The plots show the true treatment effect $\\tau(X_i)$ (upper left), the medium complexity linear model estimate $\\hat{\\tau}(X_i)_{linear,\\, true}$ (upper right), the honest causal forest estimate $\\hat{\\tau}(X_i)_{honest \\, CF}$ (lower left) and the misspecified medium complexity linear model estimate $\\hat{\\tau}(X_i)_{linear,\\, misspecified}$ (lower left) for 5679 test observations $X_i$. The test observations were restricted to have head_salary less than 14 and totalallocation less than 180. This removes outliers and allows to visualize the granularity of the difference in the treatment effect functions._"
   ]
  },
  {
   "cell_type": "markdown",
   "metadata": {},
   "source": [
    "---"
   ]
  },
  {
   "cell_type": "markdown",
   "metadata": {},
   "source": [
    "## 5. Empirical Application"
   ]
  },
  {
   "cell_type": "markdown",
   "metadata": {},
   "source": [
    "In this section, the causal forest algorithm is applied to the empirical data used by Olken (2007). "
   ]
  },
  {
   "cell_type": "code",
   "execution_count": 52,
   "metadata": {},
   "outputs": [
    {
     "data": {
      "text/html": [
       "<table>\n",
       "<thead><tr><th></th><th scope=col>Honest cluster-robust CF</th><th scope=col>Honest non-cluster-robust CF</th><th scope=col>Adaptive clustered CF</th></tr></thead>\n",
       "<tbody>\n",
       "\t<tr><th scope=row>ATE</th><td>-0.08528750</td><td>-0.08528750</td><td>-0.08500061</td></tr>\n",
       "\t<tr><th scope=row>Standard Error</th><td> 0.02888373</td><td> 0.02888373</td><td> 0.02882684</td></tr>\n",
       "</tbody>\n",
       "</table>\n"
      ],
      "text/latex": [
       "\\begin{tabular}{r|lll}\n",
       "  & Honest cluster-robust CF & Honest non-cluster-robust CF & Adaptive clustered CF\\\\\n",
       "\\hline\n",
       "\tATE & -0.08528750 & -0.08528750 & -0.08500061\\\\\n",
       "\tStandard Error &  0.02888373 &  0.02888373 &  0.02882684\\\\\n",
       "\\end{tabular}\n"
      ],
      "text/markdown": [
       "\n",
       "| <!--/--> | Honest cluster-robust CF | Honest non-cluster-robust CF | Adaptive clustered CF |\n",
       "|---|---|---|---|\n",
       "| ATE | -0.08528750 | -0.08528750 | -0.08500061 |\n",
       "| Standard Error |  0.02888373 |  0.02888373 |  0.02882684 |\n",
       "\n"
      ],
      "text/plain": [
       "               Honest cluster-robust CF Honest non-cluster-robust CF\n",
       "ATE            -0.08528750              -0.08528750                 \n",
       "Standard Error  0.02888373               0.02888373                 \n",
       "               Adaptive clustered CF\n",
       "ATE            -0.08500061          \n",
       "Standard Error  0.02882684          "
      ]
     },
     "metadata": {},
     "output_type": "display_data"
    }
   ],
   "source": [
    "ATE_function(randomization_data, road_data)"
   ]
  },
  {
   "cell_type": "markdown",
   "metadata": {},
   "source": [
    "---"
   ]
  },
  {
   "cell_type": "markdown",
   "metadata": {},
   "source": [
    "**Figure 3: Conditional Average Treatment Effects**"
   ]
  },
  {
   "cell_type": "code",
   "execution_count": 54,
   "metadata": {},
   "outputs": [
    {
     "name": "stderr",
     "output_type": "stream",
     "text": [
      "`geom_smooth()` using method = 'loess' and formula 'y ~ x'\n",
      "Warning message:\n",
      "“Removed 4 rows containing missing values (stat_boxplot).”`geom_smooth()` using method = 'loess' and formula 'y ~ x'\n",
      "Warning message:\n",
      "“Removed 4 rows containing non-finite values (stat_smooth).”Warning message:\n",
      "“Removed 6 rows containing missing values (stat_boxplot).”`geom_smooth()` using method = 'loess' and formula 'y ~ x'\n",
      "Warning message:\n",
      "“Removed 6 rows containing non-finite values (stat_smooth).”`geom_smooth()` using method = 'loess' and formula 'y ~ x'\n"
     ]
    },
    {
     "data": {
      "image/png": "[encoded data removed]",
      "text/plain": [
       "plot without title"
      ]
     },
     "metadata": {},
     "output_type": "display_data"
    }
   ],
   "source": [
    "boxplots(forest='cf_honest_clustered', variable_importance='variable_importance_honest_clustered', dataset1=randomization_data, dataset2=road_data)"
   ]
  },
  {
   "cell_type": "markdown",
   "metadata": {},
   "source": [
    "_Note: Plots show CATE boxplots for selected variables with high variable importance as selected by the causal forest algorithm._"
   ]
  },
  {
   "cell_type": "markdown",
   "metadata": {},
   "source": [
    "---"
   ]
  },
  {
   "cell_type": "markdown",
   "metadata": {},
   "source": [
    "## References"
   ]
  },
  {
   "cell_type": "markdown",
   "metadata": {},
   "source": [
    "**Abadie, A., Athey, S., Imbens, G.W. and Wooldridge, J. (2017).** When Should You Adjust Standard Errors for Clustering? National Bureau of Economic Research,  Working Paper No. 24003.\n",
    "\n",
    "**Athey, S. (2018).** Machine learning for heterogeneous treatment effects and personalized policy\n",
    "estimation. University of California, Davis. The University of California Lecture.\n",
    "\n",
    "**Athey, S. and Imbens, G. (2016).** Recursive partitioning for Heterogeneous Causal Effects. Proceedings of the National Academy of Sciences 113, 7353–7360.\n",
    "\n",
    "**Athey, S. Tibshirani, J. and Wager, S. (2019).** Generalized Random Forests. Annals of Statistics 47 (2), 1148-1178.\n",
    "\n",
    "**Athey, S. and Wager, S. (2019).** Estimating Treatment Effects with Causal Forests: An Application. arXiv preprint arXiv:1902.07409.\n",
    "\n",
    "**Breiman, L. (2001).** Random forests. Machine Learning 45 (1), 5–32 (2001)\n",
    "\n",
    "**Davis, J.M.V., and Heller, S.B. (2017).** Using Causal Forests to Predict Treatment Heterogeneity: An Application to Summer Jobs. American Economic Review 107 (5), 546-50.\n",
    "\n",
    "**Wager, S. and Athey, S. (2018).** Estimation and Inference of Heterogeneous Treatment Effects using Random Forests. Journal of the American Statistical Association 113(523), 1228-1242."
   ]
  },
  {
   "cell_type": "code",
   "execution_count": 25,
   "metadata": {},
   "outputs": [
    {
     "data": {
      "text/html": [
       "<table>\n",
       "<thead><tr><th scope=col>a</th><th scope=col>b</th></tr></thead>\n",
       "<tbody>\n",
       "\t<tr><td>-4</td><td>5 </td></tr>\n",
       "\t<tr><td>-4</td><td>6 </td></tr>\n",
       "\t<tr><td>-4</td><td>7 </td></tr>\n",
       "\t<tr><td>-4</td><td>8 </td></tr>\n",
       "</tbody>\n",
       "</table>\n"
      ],
      "text/latex": [
       "\\begin{tabular}{r|ll}\n",
       " a & b\\\\\n",
       "\\hline\n",
       "\t -4 & 5 \\\\\n",
       "\t -4 & 6 \\\\\n",
       "\t -4 & 7 \\\\\n",
       "\t -4 & 8 \\\\\n",
       "\\end{tabular}\n"
      ],
      "text/markdown": [
       "\n",
       "| a | b |\n",
       "|---|---|\n",
       "| -4 | 5  |\n",
       "| -4 | 6  |\n",
       "| -4 | 7  |\n",
       "| -4 | 8  |\n",
       "\n"
      ],
      "text/plain": [
       "  a  b\n",
       "1 -4 5\n",
       "2 -4 6\n",
       "3 -4 7\n",
       "4 -4 8"
      ]
     },
     "metadata": {},
     "output_type": "display_data"
    }
   ],
   "source": [
    "a<-seq(1:10)\n",
    "b<-seq(11:20)\n",
    "c<-data.frame(a=c(1,2,3,4), b=c(5,6,7,8))\n",
    "c$a<-c$a-c$b\n",
    "c"
   ]
  },
  {
   "cell_type": "code",
   "execution_count": 27,
   "metadata": {},
   "outputs": [
    {
     "data": {
      "text/html": [
       "<table>\n",
       "<thead><tr><th scope=col>a</th><th scope=col>b</th></tr></thead>\n",
       "<tbody>\n",
       "\t<tr><td>1</td><td>5</td></tr>\n",
       "\t<tr><td>2</td><td>6</td></tr>\n",
       "\t<tr><td>3</td><td>7</td></tr>\n",
       "\t<tr><td>4</td><td>8</td></tr>\n",
       "</tbody>\n",
       "</table>\n"
      ],
      "text/latex": [
       "\\begin{tabular}{r|ll}\n",
       " a & b\\\\\n",
       "\\hline\n",
       "\t 1 & 5\\\\\n",
       "\t 2 & 6\\\\\n",
       "\t 3 & 7\\\\\n",
       "\t 4 & 8\\\\\n",
       "\\end{tabular}\n"
      ],
      "text/markdown": [
       "\n",
       "| a | b |\n",
       "|---|---|\n",
       "| 1 | 5 |\n",
       "| 2 | 6 |\n",
       "| 3 | 7 |\n",
       "| 4 | 8 |\n",
       "\n"
      ],
      "text/plain": [
       "  a b\n",
       "1 1 5\n",
       "2 2 6\n",
       "3 3 7\n",
       "4 4 8"
      ]
     },
     "metadata": {},
     "output_type": "display_data"
    }
   ],
   "source": [
    "c<-data.frame(a=c(1,2,3,4), b=c(5,6,7,8))\n",
    "if (1==0){\n",
    "c$a<-c$a-c$b\n",
    "    }\n",
    "c"
   ]
  },
  {
   "cell_type": "code",
   "execution_count": null,
   "metadata": {},
   "outputs": [],
   "source": []
  }
 ],
 "metadata": {
  "kernelspec": {
   "display_name": "R",
   "language": "R",
   "name": "ir"
  },
  "language_info": {
   "codemirror_mode": "r",
   "file_extension": ".r",
   "mimetype": "text/x-r-source",
   "name": "R",
   "pygments_lexer": "r",
   "version": "3.6.1"
  },
  "toc": {
   "base_numbering": 1,
   "nav_menu": {},
   "number_sections": false,
   "sideBar": true,
   "skip_h1_title": true,
   "title_cell": "Table of Contents",
   "title_sidebar": "Contents",
   "toc_cell": true,
   "toc_position": {
    "height": "calc(100% - 180px)",
    "left": "10px",
    "top": "150px",
    "width": "287px"
   },
   "toc_section_display": true,
   "toc_window_display": true
  }
 },
 "nbformat": 4,
 "nbformat_minor": 4
}
